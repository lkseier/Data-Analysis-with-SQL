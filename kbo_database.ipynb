{
 "cells": [
  {
   "cell_type": "code",
   "execution_count": 1,
   "id": "df546599",
   "metadata": {},
   "outputs": [
    {
     "name": "stdout",
     "output_type": "stream",
     "text": [
      "denomination\n",
      "branch\n",
      "activity\n",
      "establishment\n",
      "address\n",
      "contact\n",
      "meta\n",
      "code\n",
      "enterprise\n",
      "sqlite_stat1\n",
      "sqlite_stat4\n"
     ]
    }
   ],
   "source": [
    "\n",
    "import sqlite3\n",
    "import pandas as pd\n",
    "\n",
    "# Connect to the SQLite database\n",
    "conn = sqlite3.connect('kbo_database.db')\n",
    "\n",
    "#query to list all tables in the database\n",
    "tables = conn.execute(\"SELECT name FROM sqlite_master WHERE type='table';\").fetchall()\n",
    "\n",
    "#print the names of the tables\n",
    "for table in tables:\n",
    "    print(table[0])\n",
    "\n",
    "conn.close()"
   ]
  },
  {
   "cell_type": "code",
   "execution_count": 3,
   "id": "674be9bf",
   "metadata": {},
   "outputs": [
    {
     "name": "stdout",
     "output_type": "stream",
     "text": [
      "(0, 'EnterpriseNumber', 'TEXT', 0, None, 0)\n",
      "(1, 'Status', 'TEXT', 0, None, 0)\n",
      "(2, 'JuridicalSituation', 'INTEGER', 0, None, 0)\n",
      "(3, 'TypeOfEnterprise', 'INTEGER', 0, None, 0)\n",
      "(4, 'JuridicalForm', 'REAL', 0, None, 0)\n",
      "(5, 'JuridicalFormCAC', 'REAL', 0, None, 0)\n",
      "(6, 'StartDate', 'TEXT', 0, None, 0)\n"
     ]
    }
   ],
   "source": [
    "import sqlite3\n",
    "\n",
    "# Reconnect to the SQLite database\n",
    "conn = sqlite3.connect('kbo_database.db')\n",
    "\n",
    "#see column names of a specific table and schema\n",
    "cursor = conn.execute(\"PRAGMA table_info(enterprise);\")\n",
    "for col in cursor:\n",
    "    print(col)\n",
    "\n"
   ]
  },
  {
   "cell_type": "code",
   "execution_count": 4,
   "id": "793e92d5",
   "metadata": {},
   "outputs": [
    {
     "name": "stdout",
     "output_type": "stream",
     "text": [
      "(0, 'Variable', 'TEXT', 0, None, 0)\n",
      "(1, 'Value', 'TEXT', 0, None, 0)\n"
     ]
    }
   ],
   "source": [
    "# Reconnect to the SQLite database\n",
    "conn = sqlite3.connect('kbo_database.db')\n",
    "\n",
    "#see column names of a specific table and schema\n",
    "cursor = conn.execute(\"PRAGMA table_info(meta);\")\n",
    "for col in cursor:\n",
    "    print(col)"
   ]
  },
  {
   "cell_type": "code",
   "execution_count": 5,
   "id": "81483725",
   "metadata": {},
   "outputs": [
    {
     "data": {
      "text/html": [
       "<div>\n",
       "<style scoped>\n",
       "    .dataframe tbody tr th:only-of-type {\n",
       "        vertical-align: middle;\n",
       "    }\n",
       "\n",
       "    .dataframe tbody tr th {\n",
       "        vertical-align: top;\n",
       "    }\n",
       "\n",
       "    .dataframe thead th {\n",
       "        text-align: right;\n",
       "    }\n",
       "</style>\n",
       "<table border=\"1\" class=\"dataframe\">\n",
       "  <thead>\n",
       "    <tr style=\"text-align: right;\">\n",
       "      <th></th>\n",
       "      <th>EnterpriseNumber</th>\n",
       "      <th>Status</th>\n",
       "      <th>JuridicalSituation</th>\n",
       "      <th>TypeOfEnterprise</th>\n",
       "      <th>JuridicalForm</th>\n",
       "      <th>JuridicalFormCAC</th>\n",
       "      <th>StartDate</th>\n",
       "    </tr>\n",
       "  </thead>\n",
       "  <tbody>\n",
       "    <tr>\n",
       "      <th>0</th>\n",
       "      <td>0200.065.765</td>\n",
       "      <td>AC</td>\n",
       "      <td>0</td>\n",
       "      <td>2</td>\n",
       "      <td>416.0</td>\n",
       "      <td>None</td>\n",
       "      <td>09-08-1960</td>\n",
       "    </tr>\n",
       "    <tr>\n",
       "      <th>1</th>\n",
       "      <td>0200.068.636</td>\n",
       "      <td>AC</td>\n",
       "      <td>0</td>\n",
       "      <td>2</td>\n",
       "      <td>417.0</td>\n",
       "      <td>None</td>\n",
       "      <td>16-02-1923</td>\n",
       "    </tr>\n",
       "    <tr>\n",
       "      <th>2</th>\n",
       "      <td>0200.171.970</td>\n",
       "      <td>AC</td>\n",
       "      <td>0</td>\n",
       "      <td>2</td>\n",
       "      <td>116.0</td>\n",
       "      <td>None</td>\n",
       "      <td>01-01-1968</td>\n",
       "    </tr>\n",
       "    <tr>\n",
       "      <th>3</th>\n",
       "      <td>0200.245.711</td>\n",
       "      <td>AC</td>\n",
       "      <td>12</td>\n",
       "      <td>2</td>\n",
       "      <td>116.0</td>\n",
       "      <td>None</td>\n",
       "      <td>01-01-1922</td>\n",
       "    </tr>\n",
       "    <tr>\n",
       "      <th>4</th>\n",
       "      <td>0200.305.493</td>\n",
       "      <td>AC</td>\n",
       "      <td>0</td>\n",
       "      <td>2</td>\n",
       "      <td>416.0</td>\n",
       "      <td>None</td>\n",
       "      <td>19-03-1962</td>\n",
       "    </tr>\n",
       "  </tbody>\n",
       "</table>\n",
       "</div>"
      ],
      "text/plain": [
       "  EnterpriseNumber Status  JuridicalSituation  TypeOfEnterprise  \\\n",
       "0     0200.065.765     AC                   0                 2   \n",
       "1     0200.068.636     AC                   0                 2   \n",
       "2     0200.171.970     AC                   0                 2   \n",
       "3     0200.245.711     AC                  12                 2   \n",
       "4     0200.305.493     AC                   0                 2   \n",
       "\n",
       "   JuridicalForm JuridicalFormCAC   StartDate  \n",
       "0          416.0             None  09-08-1960  \n",
       "1          417.0             None  16-02-1923  \n",
       "2          116.0             None  01-01-1968  \n",
       "3          116.0             None  01-01-1922  \n",
       "4          416.0             None  19-03-1962  "
      ]
     },
     "execution_count": 5,
     "metadata": {},
     "output_type": "execute_result"
    }
   ],
   "source": [
    "# Read a table into a DataFrame\n",
    "df = pd.read_sql_query(\"SELECT * FROM enterprise LIMIT 5\", conn)\n",
    "\n",
    "df.head()  # Display the first few rows of the DataFrame"
   ]
  },
  {
   "cell_type": "code",
   "execution_count": 6,
   "id": "e265ceac",
   "metadata": {},
   "outputs": [
    {
     "name": "stdout",
     "output_type": "stream",
     "text": [
      "Row count of 'enterprise' table: 1926246\n"
     ]
    }
   ],
   "source": [
    "#see row count of a specific table\n",
    "row_count = conn.execute(\"SELECT COUNT(*) FROM enterprise;\").fetchone()[0]\n",
    "print(f\"Row count of 'enterprise' table: {row_count}\")\n",
    "\n",
    "# Close the database connection\n",
    "conn.close()"
   ]
  },
  {
   "cell_type": "code",
   "execution_count": 8,
   "id": "bbf2cd67",
   "metadata": {},
   "outputs": [
    {
     "ename": "ProgrammingError",
     "evalue": "Cannot operate on a closed database.",
     "output_type": "error",
     "traceback": [
      "\u001b[31m---------------------------------------------------------------------------\u001b[39m",
      "\u001b[31mProgrammingError\u001b[39m                          Traceback (most recent call last)",
      "\u001b[36mCell\u001b[39m\u001b[36m \u001b[39m\u001b[32mIn[8]\u001b[39m\u001b[32m, line 2\u001b[39m\n\u001b[32m      1\u001b[39m \u001b[38;5;66;03m# List all tables in the SQLite database using Python\u001b[39;00m\n\u001b[32m----> \u001b[39m\u001b[32m2\u001b[39m tables = \u001b[43mconn\u001b[49m\u001b[43m.\u001b[49m\u001b[43mexecute\u001b[49m\u001b[43m(\u001b[49m\u001b[33;43m\"\u001b[39;49m\u001b[33;43mSELECT name FROM sqlite_master WHERE type=\u001b[39;49m\u001b[33;43m'\u001b[39;49m\u001b[33;43mtable\u001b[39;49m\u001b[33;43m'\u001b[39;49m\u001b[33;43m;\u001b[39;49m\u001b[33;43m\"\u001b[39;49m\u001b[43m)\u001b[49m.fetchall()\n\u001b[32m      3\u001b[39m \u001b[38;5;28;01mfor\u001b[39;00m table \u001b[38;5;129;01min\u001b[39;00m tables:\n\u001b[32m      4\u001b[39m \t\u001b[38;5;28mprint\u001b[39m(table[\u001b[32m0\u001b[39m])\n",
      "\u001b[31mProgrammingError\u001b[39m: Cannot operate on a closed database."
     ]
    }
   ],
   "source": [
    "# List all tables in the SQLite database using Python\n",
    "tables = conn.execute(\"SELECT name FROM sqlite_master WHERE type='table';\").fetchall()\n",
    "for table in tables:\n",
    "\tprint(table[0])"
   ]
  }
 ],
 "metadata": {
  "kernelspec": {
   "display_name": "Python (myenv)",
   "language": "python",
   "name": "myenv"
  },
  "language_info": {
   "codemirror_mode": {
    "name": "ipython",
    "version": 3
   },
   "file_extension": ".py",
   "mimetype": "text/x-python",
   "name": "python",
   "nbconvert_exporter": "python",
   "pygments_lexer": "ipython3",
   "version": "3.13.4"
  }
 },
 "nbformat": 4,
 "nbformat_minor": 5
}
